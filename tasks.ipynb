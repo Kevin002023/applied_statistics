{
 "cells": [
  {
   "cell_type": "markdown",
   "metadata": {},
   "source": [
    "# Notebook of Tasks for Module Applied Statistics as part of Higher Diploma in Computer Science and Data Analytics"
   ]
  },
  {
   "cell_type": "markdown",
   "metadata": {},
   "source": [
    "## Task 1"
   ]
  },
  {
   "cell_type": "markdown",
   "metadata": {},
   "source": [
    "### Problem 1\n",
    "\n",
    "Using the Lady tasting Tea experiment, calculate the probability of the lady being able to select all cups of tea where milk was put in the cup before the tea. There are 12 cups in total. 6 of which will have been made with milk being used first and the other 6 with tea first. "
   ]
  },
  {
   "cell_type": "code",
   "execution_count": 2,
   "metadata": {},
   "outputs": [
    {
     "name": "stderr",
     "output_type": "stream",
     "text": [
      "c:\\Users\\kolea\\anaconda3\\Lib\\site-packages\\pandas\\core\\arrays\\masked.py:60: UserWarning: Pandas requires version '1.3.6' or newer of 'bottleneck' (version '1.3.5' currently installed).\n",
      "  from pandas.core import (\n"
     ]
    }
   ],
   "source": [
    "# Import necessary modules\n",
    "\n",
    "import math\n",
    "import random\n",
    "import itertools\n",
    "import numpy as np\n",
    "import matplotlib.pyplot as plt\n",
    "from scipy import stats\n",
    "import seaborn as sns"
   ]
  },
  {
   "cell_type": "code",
   "execution_count": 3,
   "metadata": {},
   "outputs": [],
   "source": [
    "# Variables\n",
    "\n",
    "total_cups = 12\n",
    "\n",
    "#Milk first cups\n",
    "number_milk_first = 6\n",
    "\n",
    "#Tea first cups\n",
    "number_tea_first = 6"
   ]
  },
  {
   "cell_type": "code",
   "execution_count": 4,
   "metadata": {},
   "outputs": [
    {
     "data": {
      "text/plain": [
       "665280"
      ]
     },
     "execution_count": 4,
     "metadata": {},
     "output_type": "execute_result"
    }
   ],
   "source": [
    "# Total number of ways to select any 6 cups out of the 12. The order of the cups chosen doesnt matter\n",
    "\n",
    "ways_of_combining_all_cups = 12*11*10*9*8*7\n",
    "ways_of_combining_all_cups"
   ]
  },
  {
   "cell_type": "code",
   "execution_count": 5,
   "metadata": {},
   "outputs": [
    {
     "data": {
      "text/plain": [
       "720"
      ]
     },
     "execution_count": 5,
     "metadata": {},
     "output_type": "execute_result"
    }
   ],
   "source": [
    "# Assuming selecting just the milk first cups is a success. Then the number of ways these could be chosen in any order is:\n",
    "\n",
    "no_successes = 6*5*4*3*2*1\n",
    "no_successes\n"
   ]
  },
  {
   "cell_type": "code",
   "execution_count": 6,
   "metadata": {},
   "outputs": [
    {
     "data": {
      "text/plain": [
       "924"
      ]
     },
     "execution_count": 6,
     "metadata": {},
     "output_type": "execute_result"
    }
   ],
   "source": [
    "# The total combinations of selecting 6 cups out of 12 \n",
    "six_out_of_twelve = ways_of_combining_all_cups // no_successes\n",
    "six_out_of_twelve\n",
    "\n"
   ]
  },
  {
   "cell_type": "code",
   "execution_count": 7,
   "metadata": {},
   "outputs": [
    {
     "data": {
      "text/plain": [
       "0.0010822510822510823"
      ]
     },
     "execution_count": 7,
     "metadata": {},
     "output_type": "execute_result"
    }
   ],
   "source": [
    "#Probabiltiy\n",
    "\n",
    "prob_six = 1/six_out_of_twelve\n",
    "prob_six"
   ]
  },
  {
   "cell_type": "markdown",
   "metadata": {},
   "source": [
    "With no special ability to select milk-first cups, the lady would have a 1 in 924 chance or .108% probability of selecting just the 6 milk-first cups"
   ]
  },
  {
   "cell_type": "markdown",
   "metadata": {},
   "source": [
    "### Problem 2\n",
    "\n",
    "By choosing 5/6 of the cups correctly it might still show an ability to discern between the two categories of tea. So we will allow one mistake. This means we need to calculate the probability for 2 scenarios\n",
    "\n",
    "- getting all 6 correct\n",
    "- getting 5 out of 6 correct\n",
    "\n",
    "Once we have these we can add them together.\n",
    "\n",
    "Instead of using the above calculations we will use the function math.comb() which uses the formula:\n",
    "\n",
    "$$ \n",
    "\\frac{n!}{k!(n-k)!}\n",
    "$$"
   ]
  },
  {
   "cell_type": "markdown",
   "metadata": {},
   "source": [
    "We already have the probability of getting all 6 correct from Problem 1.\n",
    "\n",
    "1/924 or .108%"
   ]
  },
  {
   "cell_type": "markdown",
   "metadata": {},
   "source": [
    "Now we need to find the number of ways to select 5 correct cups out of 6"
   ]
  },
  {
   "cell_type": "code",
   "execution_count": 8,
   "metadata": {},
   "outputs": [
    {
     "data": {
      "text/plain": [
       "6"
      ]
     },
     "execution_count": 8,
     "metadata": {},
     "output_type": "execute_result"
    }
   ],
   "source": [
    "# total combinations for 5 out of 6 cups correct\n",
    "# n = 6, k = 5\n",
    "five_out_of_six = math.comb(6,5)\n",
    "five_out_of_six\n"
   ]
  },
  {
   "cell_type": "code",
   "execution_count": 9,
   "metadata": {},
   "outputs": [
    {
     "data": {
      "text/plain": [
       "6"
      ]
     },
     "execution_count": 9,
     "metadata": {},
     "output_type": "execute_result"
    }
   ],
   "source": [
    "# total combinations for 1 out of 6\n",
    "# n = 6, k = 1\n",
    "\n",
    "one_out_of_six = math.comb(6,1)\n",
    "one_out_of_six"
   ]
  },
  {
   "cell_type": "code",
   "execution_count": 10,
   "metadata": {},
   "outputs": [
    {
     "data": {
      "text/plain": [
       "0.03896103896103896"
      ]
     },
     "execution_count": 10,
     "metadata": {},
     "output_type": "execute_result"
    }
   ],
   "source": [
    "#Probability of picking 5 out 6 cups correctly given 12 cups total\n",
    "\n",
    "prob_five = (five_out_of_six * one_out_of_six) / six_out_of_twelve\n",
    "prob_five"
   ]
  },
  {
   "cell_type": "markdown",
   "metadata": {},
   "source": [
    "The probability of picking 5 out of 6 correctly rises to 36/924 or 3.89%"
   ]
  },
  {
   "cell_type": "markdown",
   "metadata": {},
   "source": [
    "The scenario where either 5/6 or 6/6 is a success is calculated by adding the two together"
   ]
  },
  {
   "cell_type": "code",
   "execution_count": 11,
   "metadata": {},
   "outputs": [
    {
     "data": {
      "text/plain": [
       "0.04004329004329004"
      ]
     },
     "execution_count": 11,
     "metadata": {},
     "output_type": "execute_result"
    }
   ],
   "source": [
    "Answer = prob_six+prob_five\n",
    "Answer"
   ]
  },
  {
   "cell_type": "markdown",
   "metadata": {},
   "source": [
    "If allowing for one error, the probability of selecting all 6 Milk-first cups or 5 of the Milk-first cups is 37/924 or 4%"
   ]
  },
  {
   "cell_type": "markdown",
   "metadata": {},
   "source": [
    "Would you allow errors?\n",
    "\n",
    "We now need to find the odds of choosing 4 out of 6 correct"
   ]
  },
  {
   "cell_type": "code",
   "execution_count": 12,
   "metadata": {},
   "outputs": [
    {
     "data": {
      "text/plain": [
       "15"
      ]
     },
     "execution_count": 12,
     "metadata": {},
     "output_type": "execute_result"
    }
   ],
   "source": [
    "# total combinations for 4 out of 6 cups correct\n",
    "# n = 6, k = 4\n",
    "four_out_of_six = math.comb(6,4)\n",
    "four_out_of_six\n"
   ]
  },
  {
   "cell_type": "code",
   "execution_count": 13,
   "metadata": {},
   "outputs": [
    {
     "data": {
      "text/plain": [
       "15"
      ]
     },
     "execution_count": 13,
     "metadata": {},
     "output_type": "execute_result"
    }
   ],
   "source": [
    "# total combinations for 2 out of 6\n",
    "# n = 6, k = 2\n",
    "\n",
    "two_out_of_six = math.comb(6,2)\n",
    "two_out_of_six"
   ]
  },
  {
   "cell_type": "code",
   "execution_count": 14,
   "metadata": {},
   "outputs": [
    {
     "data": {
      "text/plain": [
       "0.2435064935064935"
      ]
     },
     "execution_count": 14,
     "metadata": {},
     "output_type": "execute_result"
    }
   ],
   "source": [
    "#Probability of picking 4 out 6 cups correctly given 12 cups total\n",
    "\n",
    "prob_four = (four_out_of_six * two_out_of_six) / six_out_of_twelve\n",
    "prob_four"
   ]
  },
  {
   "cell_type": "code",
   "execution_count": 15,
   "metadata": {},
   "outputs": [
    {
     "data": {
      "text/plain": [
       "0.28354978354978355"
      ]
     },
     "execution_count": 15,
     "metadata": {},
     "output_type": "execute_result"
    }
   ],
   "source": [
    "#Probability of picking at least 4 out 6 cups correctly\n",
    "prob_total = prob_six+prob_five+prob_four\n",
    "prob_total"
   ]
  },
  {
   "cell_type": "markdown",
   "metadata": {},
   "source": [
    "The odds of just getting 4 of the 6 choices correct is 24.3%. If accepting anything over 4 cups correct the probability is over 28% and is not a strong statistical indicator of any ability to discern between the two categories of tea.  "
   ]
  },
  {
   "cell_type": "markdown",
   "metadata": {},
   "source": [
    "## Task 2\n",
    "\n",
    "Numpy Normal Distribution\n"
   ]
  },
  {
   "cell_type": "code",
   "execution_count": 16,
   "metadata": {},
   "outputs": [
    {
     "data": {
      "text/plain": [
       "array([11.82317598,  9.88437164, 10.07890184, ..., 11.01990682,\n",
       "       10.19689124, 13.06218556])"
      ]
     },
     "execution_count": 16,
     "metadata": {},
     "output_type": "execute_result"
    }
   ],
   "source": [
    "# Generate 100,000 values using numpys random generator\n",
    "#https://numpy.org/doc/stable/reference/random/generated/numpy.random.normal.html\n",
    "\n",
    "mean = 10.0\n",
    "sigma = 3.0 #standard deviation\n",
    "\n",
    "values = np.random.normal(10, 3.0, 100000)\n",
    "values"
   ]
  },
  {
   "cell_type": "markdown",
   "metadata": {},
   "source": [
    "### Shapiro wilks test\n",
    "\n",
    "https://docs.scipy.org/doc/scipy/reference/generated/scipy.stats.shapiro.html\n",
    "\n",
    "This checks if an array fits a normal distribution. It will give 2 outputs, a statistic value and a p-value. \n",
    "\n",
    "The statistic value ranges from 0-1 and measures how closely your data fits the bell curve of a normal distribution. A value closer to 1 means your vales are closer to a normal distribution.\n",
    "\n",
    "The null hypothesis in this case is that the data is normally distributed. The P-value gives a probability that your values could look like they do if they come from a normal distribution. Anything below .05 would be strong evidence that your values arent 'normal'."
   ]
  },
  {
   "cell_type": "code",
   "execution_count": 17,
   "metadata": {},
   "outputs": [
    {
     "name": "stdout",
     "output_type": "stream",
     "text": [
      "As the statistic value 0.9999449253082275 is approaching 1 it fits a bell curve.  The p-value 0.072608083486557 is high and would suggest it gits a normal distribution. However the p-value may not be accurate with a number of values over 5000.\n"
     ]
    },
    {
     "name": "stderr",
     "output_type": "stream",
     "text": [
      "c:\\Users\\kolea\\anaconda3\\Lib\\site-packages\\scipy\\stats\\_morestats.py:1882: UserWarning: p-value may not be accurate for N > 5000.\n",
      "  warnings.warn(\"p-value may not be accurate for N > 5000.\")\n"
     ]
    }
   ],
   "source": [
    "\n",
    "# Checks if the values produced fit a normal distribution\n",
    "\n",
    "statistic, p_values = stats.shapiro(values)\n",
    "statistic\n",
    "\n",
    "print(\"As the statistic value {} is approaching 1 it fits a bell curve.  The p-value {} is high and would suggest it gits a normal distribution. However the p-value may not be accurate with a number of values over 5000.\".format(statistic, p_values))"
   ]
  },
  {
   "cell_type": "markdown",
   "metadata": {},
   "source": [
    "As the statistic value ${statistic}$ is approaching 1 it fits a bell curve. \n",
    "\n",
    "The p-value {p_value} is very high and would suggest it gits a normal distribution. However the p-value may not be accurate with a number of values over 5000."
   ]
  },
  {
   "cell_type": "markdown",
   "metadata": {},
   "source": [
    "### Plot data on histogram"
   ]
  },
  {
   "cell_type": "code",
   "execution_count": 18,
   "metadata": {},
   "outputs": [
    {
     "data": {
      "text/plain": [
       "Text(0.5, 1.0, 'Histogram showing the distribution of np.random.normal')"
      ]
     },
     "execution_count": 18,
     "metadata": {},
     "output_type": "execute_result"
    },
    {
     "data": {
      "image/png": "[encoded data removed]",
      "text/plain": [
       "<Figure size 640x480 with 1 Axes>"
      ]
     },
     "metadata": {},
     "output_type": "display_data"
    }
   ],
   "source": [
    "# number of bins\n",
    "\n",
    "b = int(np.sqrt(100000))\n",
    "\n",
    "#plot\n",
    "\n",
    "plt.hist(values, b, density=True)\n",
    "plt.xlabel('Value')\n",
    "plt.ylabel('Frequency')\n",
    "plt.title('Histogram showing the distribution of np.random.normal')"
   ]
  },
  {
   "cell_type": "markdown",
   "metadata": {},
   "source": [
    "In the above plot we can see see the generated values seem to fit a bell curve suggestion a normal distribution. Next we will plot the probability density function for a normal distribution"
   ]
  },
  {
   "cell_type": "markdown",
   "metadata": {},
   "source": [
    "### Probability Density Function\n",
    "\n",
    "$$ f(x) = \\frac{1}{\\sqrt{2 \\pi \\sigma^2}} e^{-\\frac{(x -\\mu)^2}{2 \\sigma^2}} $$\n",
    "\n",
    "$\\sigma$ = standard deviation\n",
    "\n",
    "$\\mu$ = mean\n"
   ]
  },
  {
   "cell_type": "code",
   "execution_count": 19,
   "metadata": {},
   "outputs": [],
   "source": [
    "def f(x):\n",
    "  sigma = 3\n",
    "  mu = 10.0\n",
    "  norm = 1.0 / np.sqrt(2.0*np.pi * sigma**2)\n",
    "  return norm * np.exp(-(x -mu)**2 / (2.0 * sigma**2))"
   ]
  },
  {
   "cell_type": "code",
   "execution_count": 20,
   "metadata": {},
   "outputs": [],
   "source": [
    "#y = f(values)"
   ]
  },
  {
   "cell_type": "code",
   "execution_count": 21,
   "metadata": {},
   "outputs": [
    {
     "data": {
      "text/plain": [
       "[<matplotlib.lines.Line2D at 0x1688db9c650>]"
      ]
     },
     "execution_count": 21,
     "metadata": {},
     "output_type": "execute_result"
    },
    {
     "data": {
      "image/png": "[encoded data removed]",
      "text/plain": [
       "<Figure size 640x480 with 1 Axes>"
      ]
     },
     "metadata": {},
     "output_type": "display_data"
    }
   ],
   "source": [
    "# Create plot\n",
    "fig, ax = plt.subplots()\n",
    "\n",
    "# Create x range\n",
    "x = np.linspace(-5, 25, 100001) # The histogram above shows values between -5 and 25\n",
    "\n",
    "#y values\n",
    "\n",
    "y = f(x)\n",
    "\n",
    "ax.plot(x, y)"
   ]
  },
  {
   "cell_type": "markdown",
   "metadata": {},
   "source": [
    "In order to overlay the lineplot on the histogram we need to normalise the values for the histogram. This can be done by using the Density parameter in the plt.hist() function. \n",
    "\n",
    "density=True converts the histogram from showing absolute frequenices to probability. This means that the histogram and line plot will be on the same scale\n",
    " "
   ]
  },
  {
   "cell_type": "code",
   "execution_count": 22,
   "metadata": {},
   "outputs": [
    {
     "data": {
      "image/png": "[encoded data removed]",
      "text/plain": [
       "<Figure size 1200x600 with 1 Axes>"
      ]
     },
     "metadata": {},
     "output_type": "display_data"
    }
   ],
   "source": [
    "# Create plot\n",
    "fig, ax = plt.subplots(figsize=(12, 6))\n",
    "\n",
    "#Histogram\n",
    "ax.hist(values, bins=b, density=True, label =\"Histogram showing the distribution of np.random.normal'\")\n",
    "\n",
    "\n",
    "ax.plot(x, y, c='red', linewidth=4, label=\"Probability Density Function\") #increased linewidth to make it more visible\n",
    "\n",
    "# Labels and title\n",
    "plt.xlabel('Value')\n",
    "plt.ylabel('Density')\n",
    "plt.title('Histogram with Probability Density Function Overlay')\n",
    "plt.legend(loc='upper right') # move legend out of the way\n",
    "\n",
    "plt.ylim(top=0.18) #adjusting the y axis to give some room for the legend\n",
    "\n",
    "# Show the combined plot\n",
    "plt.show()\n",
    "\n"
   ]
  },
  {
   "cell_type": "markdown",
   "metadata": {},
   "source": [
    "# Task 3 \n",
    "\n",
    "t-Test Calculations"
   ]
  },
  {
   "cell_type": "markdown",
   "metadata": {},
   "source": [
    "Below is a table of resting heart rates before and after a two week excercise programme. \n",
    "\n",
    "| Patient ID | 0  | 1  | 2  | 3  | 4  | 5  | 6  | 7  | 8  | 9  |\n",
    "|------------|----|----|----|----|----|----|----|----|----|----|\n",
    "| Before     | 63 | 68 | 70 | 64 | 74 | 67 | 70 | 57 | 66 | 65 |\n",
    "| After      | 64 | 64 | 68 | 64 | 73 | 70 | 72 | 54 | 61 | 63 |\n",
    "\n",
    "\n",
    "I am going to calculate the t-statistic for these results. I will first use the package ttest.rel from [scipy.stats](https://docs.scipy.org/doc/scipy/reference/generated/scipy.stats.ttest_rel.html#ttest-rel) and then calculate it with python."
   ]
  },
  {
   "cell_type": "markdown",
   "metadata": {},
   "source": [
    "The [t-statistic](https://www.statisticshowto.com/t-statistic) is a way of measuring if two groups of data are significantly different from each other.\n",
    "\n",
    "There are [3](https://www.jmp.com/en_ch/statistics-knowledge-portal/t-test.html) different types of t-tests;\n",
    "- a one sample t-test: This is comparing a single group to an already known value. \n",
    "- an independent t-test: This is comparing how two separate groups differ from each other. \n",
    "- a paired t-test: This compares the means of two related groups. An example would be before and after scenarios like we are dealing with in this question. \n",
    "\n",
    "In this context the question is examining if the two week excercise programme had an affect on resting heart rates.  If it has an affect we would expect a statistically significant difference (either positive or negative), if the difference is small and could be explained by random chance then the t-statistic will be small.\n",
    "\n",
    "\n",
    "\n",
    "The formula for a paired samples T-test is;\n",
    "\n",
    "$t = \\dfrac{Σ(x_{1}-x_{2})}{\\dfrac{s}{\\sqrt{n}}}$\n",
    "\n",
    "where;\n",
    "- $Σ(x_{1}-x_{2})$ is the difference between the means for sample 1 and sample 2\n",
    "- $s$ is the standard deviation\n",
    "- $n$ is the number of values in a sample"
   ]
  },
  {
   "cell_type": "code",
   "execution_count": 23,
   "metadata": {},
   "outputs": [],
   "source": [
    "#create the different groups as arrays\n",
    "\n",
    "before = np.array([63,68,70,64,74,67,70,57,66,65])\n",
    "after = np.array([64,64,68,64,73,70,72,54,61,63])"
   ]
  },
  {
   "cell_type": "code",
   "execution_count": 24,
   "metadata": {},
   "outputs": [
    {
     "name": "stderr",
     "output_type": "stream",
     "text": [
      "c:\\Users\\kolea\\anaconda3\\Lib\\site-packages\\seaborn\\_oldcore.py:1119: FutureWarning: use_inf_as_na option is deprecated and will be removed in a future version. Convert inf values to NaN before operating instead.\n",
      "  with pd.option_context('mode.use_inf_as_na', True):\n",
      "c:\\Users\\kolea\\anaconda3\\Lib\\site-packages\\seaborn\\_oldcore.py:1119: FutureWarning: use_inf_as_na option is deprecated and will be removed in a future version. Convert inf values to NaN before operating instead.\n",
      "  with pd.option_context('mode.use_inf_as_na', True):\n",
      "c:\\Users\\kolea\\anaconda3\\Lib\\site-packages\\seaborn\\_oldcore.py:1075: FutureWarning: When grouping with a length-1 list-like, you will need to pass a length-1 tuple to get_group in a future version of pandas. Pass `(name,)` instead of `name` to silence this warning.\n",
      "  data_subset = grouped_data.get_group(pd_key)\n"
     ]
    },
    {
     "data": {
      "text/plain": [
       "<Axes: >"
      ]
     },
     "execution_count": 24,
     "metadata": {},
     "output_type": "execute_result"
    },
    {
     "data": {
      "image/png": "[encoded data removed]",
      "text/plain": [
       "<Figure size 640x480 with 1 Axes>"
      ]
     },
     "metadata": {},
     "output_type": "display_data"
    }
   ],
   "source": [
    "# stripplot of the values \n",
    "sns.stripplot(data=[before, after])"
   ]
  },
  {
   "cell_type": "markdown",
   "metadata": {},
   "source": [
    "The first part of the equation requires the difference of means\n"
   ]
  },
  {
   "cell_type": "code",
   "execution_count": 25,
   "metadata": {},
   "outputs": [
    {
     "data": {
      "text/plain": [
       "array([-1,  4,  2,  0,  1, -3, -2,  3,  5,  2])"
      ]
     },
     "execution_count": 25,
     "metadata": {},
     "output_type": "execute_result"
    }
   ],
   "source": [
    "differences = before - after\n",
    "differences"
   ]
  },
  {
   "cell_type": "code",
   "execution_count": 26,
   "metadata": {},
   "outputs": [
    {
     "data": {
      "text/plain": [
       "1.1"
      ]
     },
     "execution_count": 26,
     "metadata": {},
     "output_type": "execute_result"
    }
   ],
   "source": [
    "diff_mean = sum(differences)/len(differences)\n",
    "diff_mean"
   ]
  },
  {
   "cell_type": "markdown",
   "metadata": {},
   "source": [
    "Next we need the standard deviation or $s$"
   ]
  },
  {
   "cell_type": "code",
   "execution_count": 27,
   "metadata": {},
   "outputs": [
    {
     "data": {
      "text/plain": [
       "2.467792535850613"
      ]
     },
     "execution_count": 27,
     "metadata": {},
     "output_type": "execute_result"
    }
   ],
   "source": [
    "#calculate standard deviation using numpy\n",
    "\n",
    "std = np.std(differences)\n",
    "std"
   ]
  },
  {
   "cell_type": "code",
   "execution_count": 28,
   "metadata": {},
   "outputs": [
    {
     "data": {
      "text/plain": [
       "10"
      ]
     },
     "execution_count": 28,
     "metadata": {},
     "output_type": "execute_result"
    }
   ],
   "source": [
    "#n is the number of samples\n",
    "\n",
    "n = len(differences)\n",
    "n"
   ]
  },
  {
   "cell_type": "code",
   "execution_count": 29,
   "metadata": {},
   "outputs": [
    {
     "data": {
      "text/plain": [
       "1.4095615314705645"
      ]
     },
     "execution_count": 29,
     "metadata": {},
     "output_type": "execute_result"
    }
   ],
   "source": [
    "manual_t = diff_mean/(std/np.sqrt(n))\n",
    "manual_t"
   ]
  },
  {
   "cell_type": "code",
   "execution_count": 30,
   "metadata": {},
   "outputs": [
    {
     "data": {
      "text/plain": [
       "1.337227482480628"
      ]
     },
     "execution_count": 30,
     "metadata": {},
     "output_type": "execute_result"
    }
   ],
   "source": [
    "# scipy t_test\n",
    "\n",
    "scipy_t, pvalue = stats.ttest_rel(before, after)\n",
    "scipy_t"
   ]
  },
  {
   "cell_type": "markdown",
   "metadata": {},
   "source": [
    "In this case the manual t-test gave a result of 1.409 versus the scipy-t of 1.337. \n",
    "\n",
    "After doing some further research in the [documnetation](https://docs.scipy.org/doc/scipy/reference/generated/scipy.stats.ttest_rel.html) the scipy model uses a degrees of freedom value which is one less than the sample size. So in this case 9. I didnt account for this when calculating the standard deviation myself. \n",
    "\n",
    "Using Numpys standard deviation function you can select the degree of function offset (ddof). This si then deducted from the sample size to give the df. I have recalculated below with this in mind."
   ]
  },
  {
   "cell_type": "code",
   "execution_count": 31,
   "metadata": {},
   "outputs": [
    {
     "data": {
      "text/plain": [
       "2.6012817353502227"
      ]
     },
     "execution_count": 31,
     "metadata": {},
     "output_type": "execute_result"
    }
   ],
   "source": [
    "#settting ddof to 1 will give a df of 9.\n",
    "\n",
    "std_v2 = np.std(differences, ddof=1)\n",
    "std_v2"
   ]
  },
  {
   "cell_type": "code",
   "execution_count": 32,
   "metadata": {},
   "outputs": [
    {
     "data": {
      "text/plain": [
       "1.3372274824806283"
      ]
     },
     "execution_count": 32,
     "metadata": {},
     "output_type": "execute_result"
    }
   ],
   "source": [
    "corrected_manual_t = diff_mean/(std_v2/np.sqrt(n))\n",
    "corrected_manual_t"
   ]
  },
  {
   "cell_type": "markdown",
   "metadata": {},
   "source": [
    "Now we have the same value as the scipy ttest_rel functionw as producing."
   ]
  },
  {
   "cell_type": "markdown",
   "metadata": {},
   "source": [
    "0.05 is a common significance level. This would mean there is a 5% chance of the results being random chance. In our case the pvalue is 0.2139, significanlty higher that this. It would indicate no statistically significant impact from the two week exercise programme. "
   ]
  },
  {
   "cell_type": "markdown",
   "metadata": {},
   "source": [
    "## Task 4. \n",
    "\n",
    "ANOVA"
   ]
  },
  {
   "cell_type": "markdown",
   "metadata": {},
   "source": [
    "ANOVA (Anaylsis of Variance) like t-tests is a statistical tool used to compare variance across multiple groups. T-tests can be used when comparing two groups where as ANOVA can be used for multiple groups. \n",
    "\n",
    "As with T-tests the null hypothesis is that the samples are from the same group.\n",
    "\n",
    "A Type 1 error is when the null hypothesis is rejected incorrectly - a false positive.\n",
    "\n",
    "A type 2 error is when the null hypothesis is false but it is not rejected - a false negative. \n",
    "\n",
    "In this task we want to count how many typeII errors there are over 10000 simulations"
   ]
  },
  {
   "cell_type": "code",
   "execution_count": null,
   "metadata": {},
   "outputs": [],
   "source": [
    "#Create variable\n",
    "no_type_ii = 0\n",
    "\n",
    "#Set alpha, \n",
    "alpha = .05\n"
   ]
  },
  {
   "cell_type": "code",
   "execution_count": null,
   "metadata": {},
   "outputs": [
    {
     "data": {
      "text/plain": [
       "0"
      ]
     },
     "execution_count": 70,
     "metadata": {},
     "output_type": "execute_result"
    }
   ],
   "source": [
    "\n",
    "# for loop to produce samples and perform anova\n",
    "\n",
    "for i in range(10000):\n",
    "  # create 3 sample groups\n",
    "  first = np.random.normal(4.9, 0.1, 100)\n",
    "  second = np.random.normal(5.0, 0.1, 100)\n",
    "  third = np.random.normal(5.1, 0.1, 100)\n",
    "\n",
    "  #perform anova\n",
    "  f, p = stats.f_oneway(first, second, third)\n",
    "\n",
    "  if p >= alpha:\n",
    "    no_type_ii +=1\n",
    "  no_type_ii\n",
    "\n",
    "no_type_ii\n"
   ]
  },
  {
   "cell_type": "markdown",
   "metadata": {},
   "source": [
    "According to the above calculation there are no type II errors. As we have prior knowledge of the dataset having set the means ourselves, we know that the groups are different. So the null hypothesis is incorrect which this formula is correctly calculating. \n",
    "\n",
    "A relatively large dataset (100 samples each) and a low standard deviation (0.1) means the model has enough statistical power to discriminate correctly. \n",
    "\n",
    "https://www.scribbr.com/statistics/type-i-and-type-ii-errors/#:~:text=A%20Type%20II%20error%20means,to%20reject%20the%20null%20hypothesis."
   ]
  },
  {
   "cell_type": "markdown",
   "metadata": {},
   "source": [
    "Below our two of the same models where the samples size is decreased and the standard deviation is increased and you can see both return typeII errors. "
   ]
  },
  {
   "cell_type": "code",
   "execution_count": 76,
   "metadata": {},
   "outputs": [
    {
     "data": {
      "text/plain": [
       "9"
      ]
     },
     "execution_count": 76,
     "metadata": {},
     "output_type": "execute_result"
    }
   ],
   "source": [
    "#Test with smaller sample size \n",
    "\n",
    "sample_size_type_II = 0\n",
    "\n",
    "for i in range(10000):\n",
    "  # create 3 sample groups\n",
    "  first = np.random.normal(4.9, 0.1, 15)\n",
    "  second = np.random.normal(5.0, 0.1, 15)\n",
    "  third = np.random.normal(5.1, 0.1, 15)\n",
    "\n",
    "  #perform anova\n",
    "  f, p = stats.f_oneway(first, second, third)\n",
    "\n",
    "  if p >= alpha:\n",
    "    sample_size_type_II +=1\n",
    "  sample_size_type_II\n",
    "\n",
    "sample_size_type_II"
   ]
  },
  {
   "cell_type": "code",
   "execution_count": 77,
   "metadata": {},
   "outputs": [
    {
     "data": {
      "text/plain": [
       "2890"
      ]
     },
     "execution_count": 77,
     "metadata": {},
     "output_type": "execute_result"
    }
   ],
   "source": [
    "#Test with bigger variance \n",
    "\n",
    "bigger_variance_type_ii = 0\n",
    "\n",
    "\n",
    "for i in range(10000):\n",
    "  # create 3 sample groups\n",
    "  first = np.random.normal(4.9, 0.5, 100)\n",
    "  second = np.random.normal(5.0, 0.5, 100)\n",
    "  third = np.random.normal(5.1, 0.5, 100)\n",
    "\n",
    "  #perform anova\n",
    "  f, p = stats.f_oneway(first, second, third)\n",
    "\n",
    "  if p >= alpha:\n",
    "    bigger_variance_type_ii +=1\n",
    "  bigger_variance_type_ii\n",
    "\n",
    "bigger_variance_type_ii"
   ]
  },
  {
   "cell_type": "markdown",
   "metadata": {},
   "source": [
    "a"
   ]
  }
 ],
 "metadata": {
  "kernelspec": {
   "display_name": "base",
   "language": "python",
   "name": "python3"
  },
  "language_info": {
   "codemirror_mode": {
    "name": "ipython",
    "version": 3
   },
   "file_extension": ".py",
   "mimetype": "text/x-python",
   "name": "python",
   "nbconvert_exporter": "python",
   "pygments_lexer": "ipython3",
   "version": "3.11.5"
  }
 },
 "nbformat": 4,
 "nbformat_minor": 2
}
