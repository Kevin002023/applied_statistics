{
 "cells": [
  {
   "cell_type": "code",
   "execution_count": 1,
   "metadata": {},
   "outputs": [],
   "source": [
    "import numpy as np"
   ]
  },
  {
   "cell_type": "markdown",
   "metadata": {},
   "source": [
    "Lady tasting tea experiment\n"
   ]
  },
  {
   "cell_type": "code",
   "execution_count": 2,
   "metadata": {},
   "outputs": [],
   "source": [
    "import math\n",
    "import matplotlib.pyplot as plt"
   ]
  },
  {
   "cell_type": "markdown",
   "metadata": {},
   "source": [
    "1 2 3 4 5 6 7 8\n",
    "label of cups\n"
   ]
  },
  {
   "cell_type": "code",
   "execution_count": 3,
   "metadata": {},
   "outputs": [],
   "source": [
    "# Number of cups of tea in total\n",
    "no_cups = 8\n",
    "\n",
    "# Number of cups of tea with milk first\n",
    "no_milk = 4\n",
    "\n",
    "# Number of cups of tea with tea first\n",
    "no_tea = 4"
   ]
  },
  {
   "cell_type": "markdown",
   "metadata": {},
   "source": [
    "How many permutations are there for the order the tea could be given?\n"
   ]
  },
  {
   "cell_type": "code",
   "execution_count": 4,
   "metadata": {},
   "outputs": [
    {
     "name": "stdout",
     "output_type": "stream",
     "text": [
      "70\n"
     ]
    }
   ],
   "source": [
    "# Number of ways\n",
    "\n",
    "ways = math.comb(no_cups, no_milk)\n",
    "print(ways)"
   ]
  },
  {
   "cell_type": "code",
   "execution_count": 5,
   "metadata": {},
   "outputs": [
    {
     "data": {
      "text/plain": [
       "<function math.comb(n, k, /)>"
      ]
     },
     "execution_count": 5,
     "metadata": {},
     "output_type": "execute_result"
    }
   ],
   "source": [
    "math.comb"
   ]
  },
  {
   "cell_type": "code",
   "execution_count": 6,
   "metadata": {},
   "outputs": [
    {
     "data": {
      "text/plain": [
       "1680"
      ]
     },
     "execution_count": 6,
     "metadata": {},
     "output_type": "execute_result"
    }
   ],
   "source": [
    "#Total number of wyas of selecting four cups from eight, keeping them in order.\n",
    "\n",
    "ways_ordered = 8*7*6*5\n",
    "ways_ordered"
   ]
  },
  {
   "cell_type": "markdown",
   "metadata": {},
   "source": [
    "# Randomness"
   ]
  },
  {
   "cell_type": "code",
   "execution_count": 7,
   "metadata": {},
   "outputs": [
    {
     "data": {
      "text/plain": [
       "3"
      ]
     },
     "execution_count": 7,
     "metadata": {},
     "output_type": "execute_result"
    }
   ],
   "source": [
    "# Flip a coin\n",
    "\n",
    "np.random.binomial(5, 0.5)"
   ]
  },
  {
   "cell_type": "code",
   "execution_count": 8,
   "metadata": {},
   "outputs": [
    {
     "data": {
      "text/plain": [
       "array([1, 0, 0, 1, 0, 0, 1, 0, 0, 1, 0, 0, 1, 1, 1, 0, 1, 1, 1, 1, 1, 1,\n",
       "       0, 0, 0, 0, 0, 0, 1, 0, 0, 1, 0, 1, 1, 0, 0, 1, 0, 0, 1, 0, 1, 0,\n",
       "       0, 0, 1, 1, 1, 1, 1, 1, 1, 1, 1, 1, 1, 1, 0, 1, 1, 1, 0, 0, 1, 0,\n",
       "       1, 1, 0, 1, 1, 0, 0, 1, 0, 1, 1, 0, 1, 1, 1, 1, 1, 1, 1, 0, 1, 1,\n",
       "       1, 0, 1, 0, 0, 1, 0, 0, 1, 0, 0, 0, 0, 1, 1, 1, 0, 0, 0, 0, 1, 1,\n",
       "       0, 1, 0, 0, 0, 1, 0, 1, 0, 0, 0, 0, 1, 0, 1, 0, 0, 0, 0, 1, 1, 1,\n",
       "       0, 1, 1, 1, 1, 1, 0, 0, 1, 0, 0, 0, 0, 1, 1, 0, 1, 0, 1, 0, 0, 0,\n",
       "       0, 0, 1, 0, 0, 0, 1, 0, 1, 0, 1, 1, 1, 1, 0, 0, 1, 1, 0, 0, 1, 1,\n",
       "       1, 1, 1, 1, 0, 1, 0, 1, 0, 1, 1, 0, 0, 1, 1, 1, 0, 0, 0, 0, 1, 1,\n",
       "       1, 0, 1, 1, 0, 1, 0, 0, 0, 1, 0, 1, 1, 0, 0, 0, 1, 1, 1, 0, 0, 1,\n",
       "       0, 0, 1, 0, 1, 0, 1, 1, 0, 0, 0, 0, 1, 0, 0, 1, 1, 1, 1, 1, 0, 1,\n",
       "       1, 0, 0, 1, 1, 0, 1, 1, 1, 1, 1, 1, 0, 1, 0, 1, 1, 0, 1, 1, 1, 0,\n",
       "       0, 0, 0, 0, 0, 0, 1, 1, 1, 0, 0, 0, 1, 0, 0, 1, 1, 0, 0, 0, 0, 0,\n",
       "       1, 1, 1, 1, 1, 0, 0, 1, 0, 0, 1, 0, 0, 1, 1, 0, 1, 1, 1, 1, 0, 1,\n",
       "       1, 0, 0, 1, 0, 0, 1, 1, 1, 0, 0, 1, 1, 0, 1, 0, 1, 1, 1, 1, 0, 0,\n",
       "       1, 1, 1, 0, 1, 1, 0, 1, 1, 1, 0, 0, 0, 1, 1, 1, 0, 0, 1, 0, 0, 0,\n",
       "       0, 1, 1, 1, 1, 1, 0, 0, 1, 0, 1, 1, 0, 0, 1, 1, 0, 1, 0, 1, 0, 0,\n",
       "       1, 1, 1, 1, 0, 0, 0, 0, 0, 1, 0, 0, 1, 1, 0, 1, 1, 1, 0, 1, 0, 1,\n",
       "       1, 0, 1, 1, 0, 0, 0, 1, 1, 0, 1, 0, 1, 0, 0, 1, 0, 1, 1, 1, 1, 1,\n",
       "       1, 1, 1, 0, 0, 0, 1, 1, 1, 0, 0, 0, 0, 0, 0, 1, 0, 1, 0, 1, 1, 1,\n",
       "       0, 1, 0, 0, 0, 0, 1, 0, 1, 0, 0, 0, 1, 1, 1, 0, 0, 0, 1, 1, 1, 1,\n",
       "       1, 1, 1, 0, 0, 0, 1, 1, 0, 0, 1, 1, 0, 0, 0, 0, 0, 1, 0, 1, 0, 1,\n",
       "       1, 1, 0, 0, 0, 1, 0, 0, 1, 1, 0, 0, 1, 1, 0, 0, 0, 1, 1, 0, 1, 1,\n",
       "       0, 0, 0, 1, 1, 1, 0, 1, 1, 1, 1, 0, 0, 0, 0, 0, 1, 1, 1, 1, 0, 0,\n",
       "       1, 1, 1, 0, 1, 1, 0, 0, 1, 0, 1, 1, 1, 1, 0, 0, 1, 1, 1, 1, 0, 1,\n",
       "       0, 0, 0, 1, 1, 1, 1, 0, 1, 1, 1, 0, 0, 1, 1, 0, 0, 1, 0, 1, 1, 1,\n",
       "       1, 1, 1, 1, 0, 1, 1, 0, 1, 1, 1, 0, 1, 1, 1, 1, 1, 0, 0, 0, 0, 1,\n",
       "       0, 0, 1, 0, 0, 1, 0, 1, 1, 1, 1, 0, 0, 0, 1, 0, 1, 0, 1, 1, 0, 0,\n",
       "       0, 0, 0, 0, 0, 0, 0, 1, 0, 1, 0, 1, 1, 0, 1, 1, 1, 0, 0, 0, 1, 0,\n",
       "       0, 1, 0, 1, 0, 0, 0, 0, 0, 0, 1, 1, 1, 1, 1, 0, 1, 1, 1, 0, 1, 0,\n",
       "       1, 1, 1, 0, 1, 0, 1, 1, 0, 0, 0, 0, 0, 1, 0, 1, 0, 0, 0, 0, 1, 0,\n",
       "       0, 1, 1, 1, 0, 0, 0, 0, 0, 0, 0, 0, 0, 1, 0, 1, 1, 0, 0, 1, 1, 0,\n",
       "       0, 1, 0, 1, 1, 1, 1, 1, 1, 1, 1, 0, 0, 0, 1, 0, 0, 1, 1, 1, 0, 1,\n",
       "       0, 1, 0, 0, 0, 0, 1, 0, 0, 1, 0, 1, 0, 1, 1, 0, 1, 1, 1, 1, 1, 1,\n",
       "       1, 0, 0, 1, 0, 0, 0, 0, 1, 0, 1, 0, 1, 0, 1, 1, 0, 1, 0, 1, 1, 1,\n",
       "       0, 0, 0, 1, 0, 0, 0, 1, 1, 1, 0, 1, 0, 0, 1, 1, 0, 1, 1, 1, 1, 1,\n",
       "       0, 0, 0, 1, 0, 0, 1, 0, 1, 0, 0, 0, 0, 0, 0, 1, 0, 0, 1, 0, 1, 1,\n",
       "       1, 1, 1, 1, 1, 1, 1, 0, 0, 1, 1, 0, 1, 1, 0, 1, 0, 0, 0, 0, 0, 1,\n",
       "       1, 0, 0, 0, 1, 1, 1, 1, 1, 1, 1, 1, 0, 0, 1, 0, 0, 1, 1, 1, 1, 1,\n",
       "       0, 0, 0, 0, 0, 1, 0, 0, 1, 1, 1, 0, 1, 1, 0, 0, 1, 0, 0, 0, 1, 1,\n",
       "       1, 1, 0, 0, 1, 1, 1, 0, 0, 1, 0, 0, 1, 1, 0, 1, 0, 0, 1, 1, 0, 0,\n",
       "       0, 0, 0, 0, 0, 1, 0, 0, 1, 1, 0, 0, 1, 1, 1, 0, 0, 1, 1, 0, 0, 1,\n",
       "       0, 1, 0, 1, 1, 1, 1, 1, 0, 1, 1, 0, 1, 1, 0, 0, 1, 0, 0, 0, 1, 0,\n",
       "       0, 0, 0, 0, 1, 1, 0, 0, 1, 1, 0, 1, 1, 1, 1, 0, 1, 0, 0, 1, 0, 0,\n",
       "       0, 0, 0, 0, 1, 1, 1, 1, 1, 1, 0, 0, 1, 1, 1, 0, 1, 0, 1, 0, 1, 0,\n",
       "       1, 0, 0, 1, 1, 0, 1, 0, 1, 0])"
      ]
     },
     "execution_count": 8,
     "metadata": {},
     "output_type": "execute_result"
    }
   ],
   "source": [
    "# Flip a coin multiple times\n",
    "\n",
    "flips = np.random.binomial(1, 0.5, 1000)\n",
    "flips"
   ]
  },
  {
   "cell_type": "code",
   "execution_count": 9,
   "metadata": {},
   "outputs": [
    {
     "data": {
      "text/plain": [
       "515"
      ]
     },
     "execution_count": 9,
     "metadata": {},
     "output_type": "execute_result"
    }
   ],
   "source": [
    "#number of heads\n",
    "\n",
    "heads = flips.sum()\n",
    "heads"
   ]
  },
  {
   "cell_type": "code",
   "execution_count": 10,
   "metadata": {},
   "outputs": [
    {
     "data": {
      "image/png": "[encoded data removed]",
      "text/plain": [
       "<Figure size 640x480 with 1 Axes>"
      ]
     },
     "metadata": {},
     "output_type": "display_data"
    }
   ],
   "source": [
    "#Bar chart\n",
    "\n",
    "fig, ax = plt.subplots()\n",
    "\n",
    "ax.bar ([0,1], [1000 - heads, heads])\n",
    "\n",
    "#add x labels\n",
    "ax.set_xticks([0, 1])\n",
    "#ax.set_xticklabels(['Tails', 'Heads'])\n",
    "\n",
    "ax.set_xlabel = ('No. of heads');\n",
    "ax.set_ylabel = ('Count');"
   ]
  },
  {
   "cell_type": "code",
   "execution_count": 11,
   "metadata": {},
   "outputs": [
    {
     "data": {
      "text/plain": [
       "array([1, 1, 1, 2, 0, 2, 2, 2, 2, 1, 0, 1, 1, 1, 1, 1, 1, 2, 1, 1, 1, 0,\n",
       "       2, 0, 1, 2, 1, 1, 1, 2, 1, 1, 1, 2, 1, 2, 0, 2, 0, 1, 2, 2, 0, 0,\n",
       "       1, 1, 1, 1, 2, 1, 0, 1, 0, 1, 1, 1, 0, 0, 1, 2, 2, 2, 2, 1, 1, 0,\n",
       "       0, 0, 0, 1, 1, 0, 0, 1, 0, 0, 2, 2, 2, 2, 0, 1, 1, 1, 2, 2, 1, 1,\n",
       "       1, 1, 0, 2, 0, 0, 1, 2, 0, 2, 1, 1, 1, 1, 1, 1, 2, 2, 2, 1, 1, 1,\n",
       "       1, 2, 2, 1, 1, 1, 1, 0, 1, 1, 1, 0, 1, 2, 1, 0, 0, 2, 1, 0, 2, 2,\n",
       "       1, 2, 2, 1, 1, 1, 0, 2, 1, 1, 1, 1, 1, 2, 2, 1, 1, 1, 0, 1, 2, 2,\n",
       "       0, 0, 0, 2, 1, 1, 1, 1, 1, 0, 1, 1, 1, 2, 2, 0, 1, 1, 0, 1, 1, 1,\n",
       "       0, 1, 2, 2, 2, 0, 2, 2, 2, 0, 2, 1, 1, 0, 0, 1, 2, 1, 2, 0, 1, 0,\n",
       "       0, 1, 0, 2, 1, 1, 1, 0, 2, 2, 2, 0, 1, 1, 2, 2, 1, 1, 1, 1, 1, 1,\n",
       "       1, 0, 0, 0, 0, 1, 0, 1, 1, 0, 0, 2, 2, 1, 1, 1, 0, 0, 1, 1, 1, 2,\n",
       "       2, 0, 1, 1, 1, 2, 2, 1, 0, 1, 2, 0, 1, 1, 1, 1, 0, 1, 1, 2, 1, 1,\n",
       "       2, 0, 2, 2, 2, 0, 2, 2, 0, 0, 1, 0, 0, 1, 1, 1, 1, 0, 1, 2, 1, 2,\n",
       "       0, 1, 0, 1, 2, 1, 2, 1, 1, 0, 1, 1, 1, 0, 1, 1, 1, 2, 0, 0, 0, 1,\n",
       "       2, 1, 1, 1, 0, 1, 0, 1, 0, 2, 0, 1, 2, 2, 2, 0, 0, 0, 1, 0, 1, 0,\n",
       "       1, 2, 0, 2, 1, 1, 1, 0, 2, 1, 1, 2, 2, 0, 2, 0, 1, 2, 1, 2, 1, 1,\n",
       "       1, 1, 0, 1, 1, 1, 2, 0, 2, 2, 2, 1, 2, 1, 1, 1, 1, 0, 1, 2, 0, 0,\n",
       "       2, 0, 2, 0, 2, 1, 1, 0, 1, 2, 1, 1, 0, 2, 2, 0, 1, 2, 2, 1, 1, 0,\n",
       "       2, 1, 0, 0, 2, 1, 0, 2, 2, 1, 2, 1, 1, 1, 1, 1, 0, 1, 2, 2, 1, 0,\n",
       "       1, 0, 1, 0, 1, 1, 2, 0, 1, 2, 2, 0, 1, 0, 2, 1, 0, 1, 2, 2, 1, 1,\n",
       "       0, 2, 2, 0, 0, 1, 1, 0, 2, 0, 2, 0, 2, 1, 2, 1, 1, 2, 0, 1, 1, 0,\n",
       "       2, 1, 2, 1, 1, 1, 2, 2, 1, 1, 1, 2, 1, 2, 0, 1, 1, 1, 0, 1, 1, 0,\n",
       "       0, 1, 1, 1, 1, 0, 0, 0, 0, 1, 1, 0, 1, 2, 1, 0, 1, 1, 2, 1, 1, 0,\n",
       "       0, 1, 2, 0, 0, 1, 2, 1, 2, 1, 1, 0, 0, 0, 2, 2, 1, 2, 0, 2, 2, 1,\n",
       "       1, 1, 1, 0, 0, 1, 0, 2, 2, 1, 1, 2, 1, 1, 2, 2, 2, 1, 0, 2, 1, 2,\n",
       "       0, 2, 1, 1, 0, 1, 0, 1, 1, 1, 2, 1, 1, 1, 2, 1, 1, 0, 1, 2, 1, 0,\n",
       "       1, 1, 0, 0, 0, 1, 1, 1, 1, 2, 0, 1, 2, 0, 1, 0, 2, 1, 2, 0, 2, 1,\n",
       "       0, 2, 1, 1, 1, 1, 0, 1, 0, 1, 1, 1, 1, 2, 0, 1, 0, 1, 1, 1, 1, 1,\n",
       "       1, 1, 1, 1, 0, 1, 2, 1, 1, 2, 0, 1, 0, 1, 0, 2, 2, 1, 1, 1, 2, 1,\n",
       "       2, 0, 1, 1, 1, 0, 2, 1, 2, 0, 2, 1, 0, 1, 1, 1, 1, 1, 1, 0, 1, 1,\n",
       "       0, 1, 0, 0, 1, 0, 2, 1, 2, 0, 0, 2, 2, 1, 2, 2, 0, 0, 1, 1, 2, 0,\n",
       "       2, 1, 0, 1, 1, 0, 2, 1, 1, 1, 2, 1, 1, 1, 2, 1, 0, 0, 2, 1, 2, 0,\n",
       "       0, 1, 1, 1, 2, 1, 1, 1, 0, 1, 2, 1, 1, 1, 1, 0, 0, 0, 2, 2, 1, 1,\n",
       "       2, 0, 1, 2, 1, 1, 0, 2, 1, 1, 0, 1, 1, 1, 0, 1, 0, 1, 1, 2, 2, 2,\n",
       "       1, 1, 1, 0, 1, 0, 0, 1, 1, 2, 2, 0, 1, 1, 0, 1, 2, 0, 0, 0, 1, 1,\n",
       "       2, 1, 2, 0, 1, 1, 1, 2, 2, 1, 0, 0, 1, 2, 0, 2, 2, 1, 1, 1, 0, 2,\n",
       "       0, 1, 0, 1, 1, 1, 1, 1, 1, 1, 0, 0, 1, 0, 0, 0, 1, 0, 2, 1, 2, 2,\n",
       "       1, 0, 2, 2, 0, 1, 1, 0, 1, 1, 1, 2, 2, 1, 1, 1, 1, 1, 1, 2, 2, 1,\n",
       "       1, 1, 1, 1, 1, 1, 1, 2, 1, 0, 2, 2, 1, 0, 2, 2, 1, 1, 1, 0, 1, 0,\n",
       "       1, 2, 1, 0, 1, 1, 2, 0, 2, 1, 2, 1, 0, 0, 1, 1, 1, 1, 2, 0, 1, 2,\n",
       "       2, 0, 0, 1, 1, 1, 2, 0, 2, 1, 1, 0, 1, 2, 0, 1, 0, 2, 1, 1, 1, 1,\n",
       "       0, 2, 1, 2, 1, 1, 2, 2, 2, 1, 0, 1, 1, 0, 1, 2, 1, 0, 0, 1, 1, 0,\n",
       "       0, 1, 1, 2, 2, 1, 0, 1, 2, 1, 1, 0, 1, 0, 1, 1, 2, 2, 1, 1, 1, 1,\n",
       "       1, 1, 0, 2, 2, 2, 1, 1, 1, 0, 2, 1, 1, 1, 1, 1, 1, 1, 2, 1, 1, 1,\n",
       "       1, 1, 2, 1, 1, 1, 0, 1, 1, 1, 0, 0, 0, 0, 1, 2, 1, 2, 0, 1, 1, 1,\n",
       "       1, 0, 1, 0, 1, 1, 1, 1, 1, 2])"
      ]
     },
     "execution_count": 11,
     "metadata": {},
     "output_type": "execute_result"
    }
   ],
   "source": [
    "# Flip 2 coins multiple times\n",
    "\n",
    "twoflips = np.random.binomial(2, 0.5, 1000)\n",
    "twoflips"
   ]
  },
  {
   "cell_type": "code",
   "execution_count": 12,
   "metadata": {},
   "outputs": [
    {
     "data": {
      "text/plain": [
       "(array([0, 1, 2]), array([250, 499, 251], dtype=int64))"
      ]
     },
     "execution_count": 12,
     "metadata": {},
     "output_type": "execute_result"
    }
   ],
   "source": [
    "# Showing unique values and number of times they appeared\n",
    "\n",
    "uniques, counts = np.unique(twoflips, return_counts=True)\n",
    "\n",
    "uniques, counts"
   ]
  },
  {
   "cell_type": "code",
   "execution_count": 13,
   "metadata": {},
   "outputs": [
    {
     "data": {
      "image/png": "[encoded data removed]",
      "text/plain": [
       "<Figure size 640x480 with 1 Axes>"
      ]
     },
     "metadata": {},
     "output_type": "display_data"
    }
   ],
   "source": [
    "#Bar chart\n",
    "\n",
    "fig, ax = plt.subplots()\n",
    "\n",
    "ax.bar (uniques, counts)\n",
    "\n",
    "#add x labels\n",
    "ax.set_title(\"Flipping 2 coins 1000 times\")\n",
    "#ax.set_xticklabels(['Tails', 'Heads'])\n",
    "\n",
    "ax.set_xlabel('No. of heads');\n",
    "ax.set_ylabel('Count');"
   ]
  },
  {
   "cell_type": "markdown",
   "metadata": {},
   "source": [
    "# Probability Density Function"
   ]
  },
  {
   "cell_type": "markdown",
   "metadata": {},
   "source": [
    "$ f(x) = \\frac{1}{\\sqrt{2 \\pi \\sigma^2}} e^{-\\frac{(x -\\mu)^2}{2 \\sigma^2}} $"
   ]
  },
  {
   "cell_type": "code",
   "execution_count": 14,
   "metadata": {},
   "outputs": [],
   "source": [
    "def f(x):\n",
    "  sigma = 1\n",
    "  mu = 0.0\n",
    "  norm = 1.0 / np.sqrt(2.0*np.pi * sigma**2)\n",
    "  return norm * np.exp(-(x -mu)**2 / (2.0 * sigma**2))"
   ]
  },
  {
   "cell_type": "code",
   "execution_count": 15,
   "metadata": {},
   "outputs": [
    {
     "data": {
      "text/plain": [
       "0.3989422804014327"
      ]
     },
     "execution_count": 15,
     "metadata": {},
     "output_type": "execute_result"
    }
   ],
   "source": [
    "f(0.0)"
   ]
  },
  {
   "cell_type": "code",
   "execution_count": 16,
   "metadata": {},
   "outputs": [],
   "source": [
    "\n",
    "\n",
    "# CReate an x range\n",
    "x = np.linspace (-5, 5, 10001)#\n",
    "\n",
    "y = f(x)"
   ]
  },
  {
   "cell_type": "code",
   "execution_count": 17,
   "metadata": {},
   "outputs": [
    {
     "data": {
      "text/plain": [
       "[<matplotlib.lines.Line2D at 0x20f4db751d0>]"
      ]
     },
     "execution_count": 17,
     "metadata": {},
     "output_type": "execute_result"
    },
    {
     "data": {
      "image/png": "[encoded data removed]",
      "text/plain": [
       "<Figure size 640x480 with 1 Axes>"
      ]
     },
     "metadata": {},
     "output_type": "display_data"
    }
   ],
   "source": [
    "# Create an empty plot\n",
    "\n",
    "fig, ax = plt.subplots()\n",
    "\n",
    "ax.plot(x, y)"
   ]
  },
  {
   "cell_type": "code",
   "execution_count": null,
   "metadata": {},
   "outputs": [],
   "source": []
  },
  {
   "cell_type": "markdown",
   "metadata": {},
   "source": [
    "#Laerd ANOVA"
   ]
  },
  {
   "cell_type": "code",
   "execution_count": 19,
   "metadata": {},
   "outputs": [],
   "source": [
    "beginner = np.random.normal(27.2, 3.04777, 10)\n",
    "intermediate = np.random.normal(23.6, 3.30656, 10)\n",
    "advanced = np.random.normal(23.4, 3.23866, 10)"
   ]
  },
  {
   "cell_type": "markdown",
   "metadata": {},
   "source": []
  },
  {
   "cell_type": "markdown",
   "metadata": {},
   "source": []
  }
 ],
 "metadata": {
  "kernelspec": {
   "display_name": "base",
   "language": "python",
   "name": "python3"
  },
  "language_info": {
   "codemirror_mode": {
    "name": "ipython",
    "version": 3
   },
   "file_extension": ".py",
   "mimetype": "text/x-python",
   "name": "python",
   "nbconvert_exporter": "python",
   "pygments_lexer": "ipython3",
   "version": "3.11.5"
  }
 },
 "nbformat": 4,
 "nbformat_minor": 2
}
